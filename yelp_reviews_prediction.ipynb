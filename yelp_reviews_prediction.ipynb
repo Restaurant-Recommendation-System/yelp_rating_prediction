{
 "cells": [
  {
   "cell_type": "markdown",
   "metadata": {},
   "source": [
    "# Predicting Ratings from 1+ GB of Yelp Reviews"
   ]
  },
  {
   "cell_type": "markdown",
   "metadata": {},
   "source": [
    "Let's take a look at the Yelp data. It's about 1.25 Gigabytes, so I really don't want to read that all into my Macbook Air's memory. I'll read in 10,000 rows and just take a quick look."
   ]
  },
  {
   "cell_type": "code",
   "execution_count": 1,
   "metadata": {
    "collapsed": true
   },
   "outputs": [],
   "source": [
    "import pandas as pd\n",
    "import numpy as np\n",
    "from __future__ import division\n",
    "import seaborn as sns\n",
    "import re\n",
    "import matplotlib.pyplot as plt\n",
    "%matplotlib inline"
   ]
  },
  {
   "cell_type": "code",
   "execution_count": 2,
   "metadata": {
    "collapsed": false,
    "scrolled": true
   },
   "outputs": [
    {
     "data": {
      "text/html": [
       "<div>\n",
       "<table border=\"1\" class=\"dataframe\">\n",
       "  <thead>\n",
       "    <tr style=\"text-align: right;\">\n",
       "      <th></th>\n",
       "      <th>user_id</th>\n",
       "      <th>review_id</th>\n",
       "      <th>text</th>\n",
       "      <th>votes.cool</th>\n",
       "      <th>business_id</th>\n",
       "      <th>votes.funny</th>\n",
       "      <th>stars</th>\n",
       "      <th>date</th>\n",
       "      <th>type</th>\n",
       "      <th>votes.useful</th>\n",
       "    </tr>\n",
       "  </thead>\n",
       "  <tbody>\n",
       "    <tr>\n",
       "      <th>0</th>\n",
       "      <td>Xqd0DzHaiyRqVH3WRG7hzg</td>\n",
       "      <td>15SdjuK7DmYqUAj6rjGowg</td>\n",
       "      <td>dr. goldberg offers everything i look for in a...</td>\n",
       "      <td>1</td>\n",
       "      <td>vcNAWiLM4dR7D2nwwJ7nCA</td>\n",
       "      <td>0</td>\n",
       "      <td>5</td>\n",
       "      <td>2007-05-17</td>\n",
       "      <td>review</td>\n",
       "      <td>2</td>\n",
       "    </tr>\n",
       "    <tr>\n",
       "      <th>1</th>\n",
       "      <td>H1kH6QZV7Le4zqTRNxoZow</td>\n",
       "      <td>RF6UnRTtG7tWMcrO2GEoAg</td>\n",
       "      <td>Unfortunately, the frustration of being Dr. Go...</td>\n",
       "      <td>0</td>\n",
       "      <td>vcNAWiLM4dR7D2nwwJ7nCA</td>\n",
       "      <td>0</td>\n",
       "      <td>2</td>\n",
       "      <td>2010-03-22</td>\n",
       "      <td>review</td>\n",
       "      <td>2</td>\n",
       "    </tr>\n",
       "    <tr>\n",
       "      <th>2</th>\n",
       "      <td>zvJCcrpm2yOZrxKffwGQLA</td>\n",
       "      <td>-TsVN230RCkLYKBeLsuz7A</td>\n",
       "      <td>Dr. Goldberg has been my doctor for years and ...</td>\n",
       "      <td>1</td>\n",
       "      <td>vcNAWiLM4dR7D2nwwJ7nCA</td>\n",
       "      <td>0</td>\n",
       "      <td>4</td>\n",
       "      <td>2012-02-14</td>\n",
       "      <td>review</td>\n",
       "      <td>1</td>\n",
       "    </tr>\n",
       "  </tbody>\n",
       "</table>\n",
       "</div>"
      ],
      "text/plain": [
       "                  user_id               review_id  \\\n",
       "0  Xqd0DzHaiyRqVH3WRG7hzg  15SdjuK7DmYqUAj6rjGowg   \n",
       "1  H1kH6QZV7Le4zqTRNxoZow  RF6UnRTtG7tWMcrO2GEoAg   \n",
       "2  zvJCcrpm2yOZrxKffwGQLA  -TsVN230RCkLYKBeLsuz7A   \n",
       "\n",
       "                                                text  votes.cool  \\\n",
       "0  dr. goldberg offers everything i look for in a...           1   \n",
       "1  Unfortunately, the frustration of being Dr. Go...           0   \n",
       "2  Dr. Goldberg has been my doctor for years and ...           1   \n",
       "\n",
       "              business_id  votes.funny  stars        date    type  \\\n",
       "0  vcNAWiLM4dR7D2nwwJ7nCA            0      5  2007-05-17  review   \n",
       "1  vcNAWiLM4dR7D2nwwJ7nCA            0      2  2010-03-22  review   \n",
       "2  vcNAWiLM4dR7D2nwwJ7nCA            0      4  2012-02-14  review   \n",
       "\n",
       "   votes.useful  \n",
       "0             2  \n",
       "1             2  \n",
       "2             1  "
      ]
     },
     "execution_count": 2,
     "metadata": {},
     "output_type": "execute_result"
    }
   ],
   "source": [
    "reviews_data = pd.read_csv('/Users/nickbecker/Python_Projects/yelp_academic_challenge/yelp_academic_dataset_review.csv',\n",
    "                             nrows = 10000)\n",
    "reviews_data.head(3)"
   ]
  },
  {
   "cell_type": "code",
   "execution_count": 43,
   "metadata": {
    "collapsed": false
   },
   "outputs": [
    {
     "name": "stdout",
     "output_type": "stream",
     "text": [
      "I've been going here since I was a wee tot.  I have always enjoyed their food even though there's nothing too special about it.  I really like their breakfast menu.  You always seem to get lots of food for very little money, which is nice.  \n",
      "\n",
      "My only complaint is that it is WAY TOO SMALL and always very busy.  They should really look at expanding the restaurant.\n"
     ]
    }
   ],
   "source": [
    "print reviews_data.iloc[1000, :].text"
   ]
  },
  {
   "cell_type": "markdown",
   "metadata": {},
   "source": [
    "Okay, so that seems like a prety good review. They liked the food and the quantity, but didn't like the size and business of the restaurant. Definitely positive, but probably a 4 star instead of a 5 star since they had some complaints. Let's check."
   ]
  },
  {
   "cell_type": "code",
   "execution_count": 69,
   "metadata": {
    "collapsed": false
   },
   "outputs": [
    {
     "name": "stdout",
     "output_type": "stream",
     "text": [
      "5\n"
     ]
    }
   ],
   "source": [
    "print reviews_data.iloc[1000, :].stars"
   ]
  },
  {
   "cell_type": "markdown",
   "metadata": {},
   "source": [
    "Well I was wrong. It's a 5 star review. This is a perfect of example of why classifying sentiment (or ratings) from text is hard. Fortunately, for this post, I'll focus on predicting only whether reviews are positive (4 or 5 stars) or negative (1 or 2 stars). This is an easier problem, and is potentially just as useful."
   ]
  },
  {
   "cell_type": "markdown",
   "metadata": {},
   "source": [
    "## Training a model with big data?"
   ]
  },
  {
   "cell_type": "markdown",
   "metadata": {},
   "source": [
    "Normally I'd define 'big data' as data too large to fit into memory (which this is not). But, since the processing time required to analyze this much text is enormous, I'll count this as well. In other situations, we might read the whole dataset into memory and build a tf-idf or bag of words matrix. In fact, I've done that for other text analysis tasks (see []() and []() for examples). But here, since the data is so large, our processing and tokenization time would be gigantic even if we could fit everything into memory."
   ]
  },
  {
   "cell_type": "markdown",
   "metadata": {},
   "source": [
    "To get around this, we need to change the optimization process. When the dataset size is small, optimization may be fastest by solving directly for the solution. In OLS linear regression, this would be performing the linear algebra to solve for the optimal weights (w = (X'X)-1X'y). As the dataset becomes larger, gradient descent becomes a more efficient way to find the optimal weights. Gradient descent isn't guaranteed to find the optimal weights (whether it does or not depends on the shape of the loss or likelihood function space), but in practice we are often fine.\n",
    "\n",
    "However, as the dataset becomes **extremely** large, gradient descent becomes less effective. The size of the data just massively increase the number of steps required for gradient descent to converge. To use our massive amount of data, we need a new method."
   ]
  },
  {
   "cell_type": "markdown",
   "metadata": {},
   "source": [
    "## Stochastic Gradient Descent (or Ascent)"
   ]
  },
  {
   "cell_type": "markdown",
   "metadata": {},
   "source": [
    "Stochastic gradient descent is the solution. Essentially, we're going to do the same gradient descent iteratively on random mini-batches of the data and use these to iteratively update our gradient to (hopefully) reach the optimal solution. Again, we aren't guaranteed to converge to the global optimium (we can get stuck in local optima just like before), but this approach has proven to work extremely well.\n",
    "\n",
    "As a note, since I'm going to do logistic regression, we're actually maximizing a likelihood function instead of minimizing a loss function. That makes it gradient ascent, instead of descent. "
   ]
  },
  {
   "cell_type": "markdown",
   "metadata": {},
   "source": [
    "First, I'll use `pandas.read_csv` to create an iterator object with chunks of size 1000. With this, I can loop through the iterator and each loop will return a chunk of size 1000 from the dataset until I reach the end. I'll skip the first 10,000 rows since we already read that into memory and will use that as a validation set."
   ]
  },
  {
   "cell_type": "code",
   "execution_count": 44,
   "metadata": {
    "collapsed": true
   },
   "outputs": [],
   "source": [
    "reviews_iterator = pd.read_csv('/Users/nickbecker/Python_Projects/yelp_academic_challenge/yelp_academic_dataset_review.csv',\n",
    "                             chunksize = 1000, skiprows = 10000, names = reviews_data.columns)"
   ]
  },
  {
   "cell_type": "markdown",
   "metadata": {},
   "source": [
    "Next, I'll define a function to clean the review text (the same function I've used before) and a tokenizer to stem the words in the review. The tokenizer will be passed to the HashingVectorizer to capture words that should be treated as the same but have different endings."
   ]
  },
  {
   "cell_type": "code",
   "execution_count": 45,
   "metadata": {
    "collapsed": true
   },
   "outputs": [],
   "source": [
    "from nltk.corpus import stopwords\n",
    "from nltk.stem.porter import PorterStemmer\n",
    "from nltk import word_tokenize\n",
    "\n",
    "def clean_review(review):\n",
    "    \"\"\"\n",
    "    Function to clean review text to keep only letters and remove stopwords\n",
    "    Returns a string of the cleaned bill text\n",
    "    \"\"\"\n",
    "    letters_only = re.sub('[^a-zA-Z]', ' ', review)\n",
    "    words = letters_only.lower().split()\n",
    "    stopwords_eng = set(stopwords.words(\"english\"))\n",
    "    useful_words = [x for x in words if not x in stopwords_eng]\n",
    "    \n",
    "    # Combine words into a paragraph again\n",
    "    useful_words_string = ' '.join(useful_words)\n",
    "    return(useful_words_string)\n",
    "\n",
    "stemmer = PorterStemmer()\n",
    "\n",
    "def stem_words(words_list, stemmer):\n",
    "    return [stemmer.stem(word) for word in words_list]\n",
    "\n",
    "def tokenize(text):\n",
    "    tokens = word_tokenize(text)\n",
    "    stems = stem_words(tokens, stemmer)\n",
    "    return stems"
   ]
  },
  {
   "cell_type": "markdown",
   "metadata": {},
   "source": [
    "I'll apply our functions to the 10,000 reviews in `reviews_data` so we can use them as a validation set. I'll also get rid of the 3 star reviews, as they're neutral on a 5 star scale."
   ]
  },
  {
   "cell_type": "code",
   "execution_count": 46,
   "metadata": {
    "collapsed": true
   },
   "outputs": [],
   "source": [
    "reviews_data = reviews_data.query('stars != 3')\n",
    "reviews_data['clean_review'] = reviews_data['text'].apply(clean_review)\n",
    "reviews_data['star_sentiment'] = reviews_data['stars'].apply(lambda x: 1 if x > 3 else 0)"
   ]
  },
  {
   "cell_type": "markdown",
   "metadata": {},
   "source": [
    "Okay, time to build the model."
   ]
  },
  {
   "cell_type": "code",
   "execution_count": 49,
   "metadata": {
    "collapsed": false,
    "scrolled": true
   },
   "outputs": [
    {
     "name": "stdout",
     "output_type": "stream",
     "text": [
      "Validation Accuracy at 0: 0.825370281892\n",
      "Validation Accuracy at 1: 0.869804108935\n",
      "Validation Accuracy at 2: 0.874104156713\n",
      "Validation Accuracy at 3: 0.877209746775\n",
      "Validation Accuracy at 4: 0.876493072145\n",
      "Validation Accuracy at 5: 0.889154323937\n",
      "Validation Accuracy at 6: 0.891662685141\n",
      "Validation Accuracy at 7: 0.885570950788\n",
      "Validation Accuracy at 8: 0.875059722886\n",
      "Validation Accuracy at 9: 0.876493072145\n",
      "Validation Accuracy at 10: 0.887004300048\n",
      "Validation Accuracy at 11: 0.893693263258\n",
      "Validation Accuracy at 12: 0.892140468227\n",
      "Validation Accuracy at 13: 0.893215480172\n",
      "Validation Accuracy at 14: 0.88640707119\n",
      "Validation Accuracy at 15: 0.889990444338\n",
      "Validation Accuracy at 16: 0.886168179646\n",
      "Validation Accuracy at 17: 0.895365504061\n",
      "Validation Accuracy at 18: 0.900143334926\n",
      "Validation Accuracy at 19: 0.895365504061\n",
      "Validation Accuracy at 20: 0.891184902054\n",
      "Validation Accuracy at 21: 0.896679407549\n",
      "Validation Accuracy at 22: 0.875776397516\n",
      "Validation Accuracy at 23: 0.892498805542\n",
      "Validation Accuracy at 24: 0.897993311037\n",
      "Validation Accuracy at 25: 0.894409937888\n",
      "Validation Accuracy at 26: 0.897037744864\n",
      "Validation Accuracy at 27: 0.888079311992\n",
      "Validation Accuracy at 28: 0.901218346871\n",
      "Validation Accuracy at 29: 0.894648829431\n",
      "Validation Accuracy at 30: 0.893693263258\n",
      "Validation Accuracy at 31: 0.89823220258\n",
      "Validation Accuracy at 32: 0.900023889154\n",
      "Validation Accuracy at 33: 0.897754419494\n",
      "Validation Accuracy at 34: 0.897873865265\n",
      "Validation Accuracy at 35: 0.897873865265\n",
      "Validation Accuracy at 36: 0.897157190635\n",
      "Validation Accuracy at 37: 0.895365504061\n",
      "Validation Accuracy at 38: 0.89894887721\n",
      "Validation Accuracy at 39: 0.898471094123\n",
      "Validation Accuracy at 40: 0.89823220258\n",
      "Validation Accuracy at 41: 0.899187768753\n",
      "Validation Accuracy at 42: 0.901815575729\n",
      "Validation Accuracy at 43: 0.900023889154\n",
      "Validation Accuracy at 44: 0.901098901099\n",
      "Validation Accuracy at 45: 0.899307214525\n",
      "Validation Accuracy at 46: 0.894887720975\n",
      "Validation Accuracy at 47: 0.896559961777\n",
      "Validation Accuracy at 48: 0.899307214525\n",
      "Validation Accuracy at 49: 0.900023889154\n",
      "Validation Accuracy at 50: 0.903129479216\n",
      "Validation Accuracy at 51: 0.900621118012\n",
      "Validation Accuracy at 52: 0.881629240325\n",
      "Validation Accuracy at 53: 0.90265169613\n",
      "Validation Accuracy at 54: 0.89823220258\n",
      "Validation Accuracy at 55: 0.897873865265\n",
      "Validation Accuracy at 56: 0.89823220258\n",
      "Validation Accuracy at 57: 0.895962732919\n",
      "Validation Accuracy at 58: 0.889034878165\n",
      "Validation Accuracy at 59: 0.898471094123\n",
      "Validation Accuracy at 60: 0.901457238414\n",
      "Validation Accuracy at 61: 0.898709985667\n",
      "Validation Accuracy at 62: 0.902412804587\n",
      "Validation Accuracy at 63: 0.887243191591\n",
      "Validation Accuracy at 64: 0.89010989011\n",
      "Validation Accuracy at 65: 0.896559961777\n",
      "Validation Accuracy at 66: 0.898709985667\n",
      "Validation Accuracy at 67: 0.900382226469\n",
      "Validation Accuracy at 68: 0.897754419494\n",
      "Validation Accuracy at 69: 0.903487816531\n",
      "Validation Accuracy at 70: 0.900262780698\n",
      "Validation Accuracy at 71: 0.90563784042\n",
      "Validation Accuracy at 72: 0.900860009556\n",
      "Validation Accuracy at 73: 0.904562828476\n",
      "Validation Accuracy at 74: 0.90336837076\n",
      "Validation Accuracy at 75: 0.900979455327\n",
      "Validation Accuracy at 76: 0.903248924988\n",
      "Validation Accuracy at 77: 0.904443382704\n",
      "Validation Accuracy at 78: 0.900621118012\n",
      "Validation Accuracy at 79: 0.899307214525\n",
      "Validation Accuracy at 80: 0.904801720019\n",
      "Validation Accuracy at 81: 0.902054467272\n",
      "Validation Accuracy at 82: 0.902173913043\n",
      "Validation Accuracy at 83: 0.902890587673\n",
      "Validation Accuracy at 84: 0.898112756808\n",
      "Validation Accuracy at 85: 0.901815575729\n",
      "Validation Accuracy at 86: 0.901098901099\n",
      "Validation Accuracy at 87: 0.902532250358\n",
      "Validation Accuracy at 88: 0.903248924988\n",
      "Validation Accuracy at 89: 0.904682274247\n",
      "Validation Accuracy at 90: 0.904443382704\n",
      "Validation Accuracy at 91: 0.903129479216\n",
      "Validation Accuracy at 92: 0.904921165791\n",
      "Validation Accuracy at 93: 0.902771141902\n",
      "Validation Accuracy at 94: 0.903965599618\n",
      "Validation Accuracy at 95: 0.904323936933\n",
      "Validation Accuracy at 96: 0.902293358815\n",
      "Validation Accuracy at 97: 0.904682274247\n",
      "Validation Accuracy at 98: 0.904801720019\n",
      "Validation Accuracy at 99: 0.896201624462\n",
      "Validation Accuracy at 100: 0.897873865265\n",
      "Validation Accuracy at 101: 0.901457238414\n",
      "Validation Accuracy at 102: 0.901218346871\n",
      "Validation Accuracy at 103: 0.902412804587\n",
      "Validation Accuracy at 104: 0.900979455327\n",
      "Validation Accuracy at 105: 0.900740563784\n",
      "Validation Accuracy at 106: 0.899546106068\n",
      "Validation Accuracy at 107: 0.899187768753\n",
      "Validation Accuracy at 108: 0.898471094123\n",
      "Validation Accuracy at 109: 0.897873865265\n",
      "Validation Accuracy at 110: 0.900382226469\n",
      "Validation Accuracy at 111: 0.900979455327\n",
      "Validation Accuracy at 112: 0.899904443383\n",
      "Validation Accuracy at 113: 0.897873865265\n",
      "Validation Accuracy at 114: 0.89010989011\n",
      "Validation Accuracy at 115: 0.905279503106\n",
      "Validation Accuracy at 116: 0.894171046345\n",
      "Validation Accuracy at 117: 0.885093167702\n",
      "Validation Accuracy at 118: 0.885212613473\n",
      "Validation Accuracy at 119: 0.895126612518\n",
      "Validation Accuracy at 120: 0.903607262303\n",
      "Validation Accuracy at 121: 0.899187768753\n",
      "Validation Accuracy at 122: 0.896082178691\n",
      "Validation Accuracy at 123: 0.893573817487\n",
      "Validation Accuracy at 124: 0.900501672241\n",
      "Validation Accuracy at 125: 0.903726708075\n",
      "Validation Accuracy at 126: 0.905876731964\n",
      "Validation Accuracy at 127: 0.903248924988\n",
      "Validation Accuracy at 128: 0.901815575729\n",
      "Validation Accuracy at 129: 0.904204491161\n",
      "Validation Accuracy at 130: 0.904085045389\n",
      "Validation Accuracy at 131: 0.904801720019\n",
      "Validation Accuracy at 132: 0.905040611562\n",
      "Validation Accuracy at 133: 0.903965599618\n",
      "Validation Accuracy at 134: 0.905279503106\n",
      "Validation Accuracy at 135: 0.901218346871\n",
      "Validation Accuracy at 136: 0.905040611562\n",
      "Validation Accuracy at 137: 0.904562828476\n",
      "Validation Accuracy at 138: 0.903726708075\n",
      "Validation Accuracy at 139: 0.903010033445\n",
      "Validation Accuracy at 140: 0.900143334926\n",
      "Validation Accuracy at 141: 0.902771141902\n",
      "Validation Accuracy at 142: 0.897396082179\n",
      "Validation Accuracy at 143: 0.896559961777\n",
      "Validation Accuracy at 144: 0.904801720019\n",
      "Validation Accuracy at 145: 0.900501672241\n",
      "Validation Accuracy at 146: 0.894171046345\n",
      "Validation Accuracy at 147: 0.901576684185\n",
      "Validation Accuracy at 148: 0.897993311037\n",
      "Validation Accuracy at 149: 0.902293358815\n",
      "Validation Accuracy at 150: 0.905518394649\n",
      "Validation Accuracy at 151: 0.904204491161\n",
      "Validation Accuracy at 152: 0.900382226469\n",
      "Validation Accuracy at 153: 0.902532250358\n",
      "Validation Accuracy at 154: 0.902532250358\n",
      "Validation Accuracy at 155: 0.898351648352\n",
      "Validation Accuracy at 156: 0.900860009556\n",
      "Validation Accuracy at 157: 0.89751552795\n",
      "Validation Accuracy at 158: 0.900621118012\n",
      "Validation Accuracy at 159: 0.900979455327\n",
      "Validation Accuracy at 160: 0.904801720019\n",
      "Validation Accuracy at 161: 0.900501672241\n",
      "Validation Accuracy at 162: 0.899426660296\n",
      "Validation Accuracy at 163: 0.903607262303\n",
      "Validation Accuracy at 164: 0.898471094123\n",
      "Validation Accuracy at 165: 0.896082178691\n",
      "Validation Accuracy at 166: 0.896559961777\n",
      "Validation Accuracy at 167: 0.896798853321\n",
      "Validation Accuracy at 168: 0.900621118012\n",
      "Validation Accuracy at 169: 0.897157190635\n",
      "Validation Accuracy at 170: 0.898351648352\n",
      "Validation Accuracy at 171: 0.900382226469\n",
      "Validation Accuracy at 172: 0.904801720019\n",
      "Validation Accuracy at 173: 0.90707118968\n",
      "Validation Accuracy at 174: 0.907429526995\n",
      "Validation Accuracy at 175: 0.907668418538\n",
      "Validation Accuracy at 176: 0.905996177735\n",
      "Validation Accuracy at 177: 0.908026755853\n",
      "Validation Accuracy at 178: 0.900501672241\n",
      "Validation Accuracy at 179: 0.89823220258\n",
      "Validation Accuracy at 180: 0.896798853321\n",
      "Validation Accuracy at 181: 0.897873865265\n",
      "Validation Accuracy at 182: 0.895962732919\n",
      "Validation Accuracy at 183: 0.894290492117\n",
      "Validation Accuracy at 184: 0.894768275203\n",
      "Validation Accuracy at 185: 0.895484949833\n",
      "Validation Accuracy at 186: 0.896798853321\n",
      "Validation Accuracy at 187: 0.901696129957\n",
      "Validation Accuracy at 188: 0.905398948877\n",
      "Validation Accuracy at 189: 0.904801720019\n",
      "Validation Accuracy at 190: 0.902173913043\n",
      "Validation Accuracy at 191: 0.89894887721\n",
      "Validation Accuracy at 192: 0.89894887721\n",
      "Validation Accuracy at 193: 0.899665551839\n",
      "Validation Accuracy at 194: 0.89751552795\n",
      "Validation Accuracy at 195: 0.900740563784\n",
      "Validation Accuracy at 196: 0.903965599618\n",
      "Validation Accuracy at 197: 0.905160057334\n",
      "Validation Accuracy at 198: 0.908146201624\n",
      "Validation Accuracy at 199: 0.907907310081\n",
      "Validation Accuracy at 200: 0.90707118968\n",
      "Validation Accuracy at 201: 0.906593406593\n",
      "Validation Accuracy at 202: 0.906593406593\n",
      "Validation Accuracy at 203: 0.908862876254\n",
      "Validation Accuracy at 204: 0.903726708075\n",
      "Validation Accuracy at 205: 0.906473960822\n",
      "Validation Accuracy at 206: 0.905279503106\n",
      "Validation Accuracy at 207: 0.896559961777\n",
      "Validation Accuracy at 208: 0.901337792642\n",
      "Validation Accuracy at 209: 0.900501672241\n",
      "Validation Accuracy at 210: 0.900023889154\n",
      "Validation Accuracy at 211: 0.905160057334\n",
      "Validation Accuracy at 212: 0.902173913043\n",
      "Validation Accuracy at 213: 0.89894887721\n",
      "Validation Accuracy at 214: 0.899187768753\n",
      "Validation Accuracy at 215: 0.901696129957\n",
      "Validation Accuracy at 216: 0.900143334926\n",
      "Validation Accuracy at 217: 0.894171046345\n",
      "Validation Accuracy at 218: 0.899546106068\n",
      "Validation Accuracy at 219: 0.896559961777\n",
      "Validation Accuracy at 220: 0.893454371715\n",
      "Validation Accuracy at 221: 0.894768275203\n",
      "Validation Accuracy at 222: 0.892976588629\n",
      "Validation Accuracy at 223: 0.897037744864\n",
      "Validation Accuracy at 224: 0.89452938366\n",
      "Validation Accuracy at 225: 0.895007166746\n",
      "Validation Accuracy at 226: 0.893334925944\n",
      "Validation Accuracy at 227: 0.891901576684\n",
      "Validation Accuracy at 228: 0.893334925944\n",
      "Validation Accuracy at 229: 0.889632107023\n",
      "Validation Accuracy at 230: 0.895365504061\n",
      "Validation Accuracy at 231: 0.90265169613\n",
      "Validation Accuracy at 232: 0.896679407549\n",
      "Validation Accuracy at 233: 0.903129479216\n",
      "Validation Accuracy at 234: 0.904562828476\n",
      "Validation Accuracy at 235: 0.905040611562\n",
      "Validation Accuracy at 236: 0.90563784042\n",
      "Validation Accuracy at 237: 0.905398948877\n",
      "Validation Accuracy at 238: 0.905996177735\n",
      "Validation Accuracy at 239: 0.905398948877\n",
      "Validation Accuracy at 240: 0.905996177735\n",
      "Validation Accuracy at 241: 0.90635451505\n",
      "Validation Accuracy at 242: 0.907429526995\n",
      "Validation Accuracy at 243: 0.90635451505\n",
      "Validation Accuracy at 244: 0.905757286192\n",
      "Validation Accuracy at 245: 0.906593406593\n",
      "Validation Accuracy at 246: 0.905040611562\n",
      "Validation Accuracy at 247: 0.898351648352\n",
      "Validation Accuracy at 248: 0.897993311037\n",
      "Validation Accuracy at 249: 0.894768275203\n",
      "Validation Accuracy at 250: 0.898112756808\n",
      "Validation Accuracy at 251: 0.903487816531\n",
      "Validation Accuracy at 252: 0.898590539895\n",
      "Validation Accuracy at 253: 0.900382226469\n",
      "Validation Accuracy at 254: 0.897873865265\n",
      "Validation Accuracy at 255: 0.894768275203\n",
      "Validation Accuracy at 256: 0.893573817487\n",
      "Validation Accuracy at 257: 0.894409937888\n",
      "Validation Accuracy at 258: 0.897276636407\n",
      "Validation Accuracy at 259: 0.900143334926\n",
      "Validation Accuracy at 260: 0.900382226469\n",
      "Validation Accuracy at 261: 0.901696129957\n",
      "Validation Accuracy at 262: 0.903010033445\n",
      "Validation Accuracy at 263: 0.905398948877\n",
      "Validation Accuracy at 264: 0.904443382704\n",
      "Validation Accuracy at 265: 0.893932154802\n",
      "Validation Accuracy at 266: 0.888437649307\n",
      "Validation Accuracy at 267: 0.894171046345\n",
      "Validation Accuracy at 268: 0.896321070234\n",
      "Validation Accuracy at 269: 0.902771141902\n",
      "Validation Accuracy at 270: 0.90336837076\n",
      "Validation Accuracy at 271: 0.906712852365\n",
      "Validation Accuracy at 272: 0.906593406593\n",
      "Validation Accuracy at 273: 0.901696129957\n",
      "Validation Accuracy at 274: 0.893693263258\n",
      "Validation Accuracy at 275: 0.890707118968\n",
      "Validation Accuracy at 276: 0.891423793598\n",
      "Validation Accuracy at 277: 0.903129479216\n",
      "Validation Accuracy at 278: 0.901815575729\n",
      "Validation Accuracy at 279: 0.894887720975\n",
      "Validation Accuracy at 280: 0.904204491161\n",
      "Validation Accuracy at 281: 0.904323936933\n",
      "Validation Accuracy at 282: 0.903607262303\n",
      "Validation Accuracy at 283: 0.899904443383\n",
      "Validation Accuracy at 284: 0.9019350215\n",
      "Validation Accuracy at 285: 0.906951743908\n",
      "Validation Accuracy at 286: 0.906951743908\n",
      "Validation Accuracy at 287: 0.903607262303\n",
      "Validation Accuracy at 288: 0.903248924988\n",
      "Validation Accuracy at 289: 0.902173913043\n",
      "Validation Accuracy at 290: 0.900621118012\n",
      "Validation Accuracy at 291: 0.902054467272\n",
      "Validation Accuracy at 292: 0.90265169613\n",
      "Validation Accuracy at 293: 0.899546106068\n",
      "Validation Accuracy at 294: 0.902771141902\n",
      "Validation Accuracy at 295: 0.903487816531\n",
      "Validation Accuracy at 296: 0.897634973722\n",
      "Validation Accuracy at 297: 0.898590539895\n",
      "Validation Accuracy at 298: 0.900501672241\n",
      "Validation Accuracy at 299: 0.90336837076\n"
     ]
    }
   ],
   "source": [
    "from sklearn.linear_model import SGDClassifier\n",
    "from sklearn.feature_extraction.text import HashingVectorizer\n",
    "\n",
    "vectorizer = HashingVectorizer(decode_error='ignore', n_features = 2**18,\n",
    "                               tokenizer = tokenize, non_negative=True)\n",
    "y_classes = np.array([0, 1])\n",
    "max_iterations = 299\n",
    "\n",
    "clf_logit_sgd = SGDClassifier(loss = 'log', n_jobs = 2, learning_rate = 'optimal',\n",
    "                              random_state = 12, verbose = 0, shuffle = True)\n",
    "\n",
    "validation_accuracy_list = []\n",
    "\n",
    "x_validation = vectorizer.transform(reviews_data['clean_review'])\n",
    "y_validation = reviews_data['star_sentiment']\n",
    "\n",
    "for i, mini_batch in enumerate(reviews_iterator): \n",
    "    mini_reviews_data = mini_batch.copy().query('stars != 3')\n",
    "    mini_reviews_data['clean_review'] = mini_reviews_data['text'].apply(clean_review)\n",
    "    mini_reviews_data['star_sentiment'] = mini_reviews_data['stars'].apply(lambda x: 1 if x > 3 else 0)\n",
    "\n",
    "    x_train = vectorizer.transform(mini_reviews_data['clean_review'])\n",
    "    y_train = mini_reviews_data['star_sentiment']\n",
    "\n",
    "    clf_logit_sgd.partial_fit(x_train, y_train, classes = y_classes)\n",
    "\n",
    "    if i % 1 == 0:\n",
    "        validation_accuracy = clf_logit_sgd.score(x_validation, y_validation)\n",
    "        validation_accuracy_list.append((i, validation_accuracy))\n",
    "        print 'Validation Accuracy at {0}: {1}'.format(i, validation_accuracy)\n",
    "            \n",
    "    if i >= max_iterations:\n",
    "        break"
   ]
  },
  {
   "cell_type": "markdown",
   "metadata": {},
   "source": [
    "Let's see how the accuracy evolved over time. I'll plot the raw accuracy plot and the average of every 10 iterations."
   ]
  },
  {
   "cell_type": "code",
   "execution_count": 64,
   "metadata": {
    "collapsed": false
   },
   "outputs": [],
   "source": [
    "iterations = [x[0] for x in validation_accuracy_list]\n",
    "accuracies = [x[1] for x in validation_accuracy_list]\n",
    "\n",
    "n = 10\n",
    "accuracies_average = np.array(accuracies).reshape(-1, n).mean(axis = 1)\n",
    "iterations_sampled = [x[0] for i, x in enumerate(validation_accuracy_list) if i % n == 0]"
   ]
  },
  {
   "cell_type": "code",
   "execution_count": 78,
   "metadata": {
    "collapsed": false
   },
   "outputs": [
    {
     "data": {
      "image/png": "[encoded data removed]",
      "text/plain": [
       "<matplotlib.figure.Figure at 0x11ee57bd0>"
      ]
     },
     "metadata": {},
     "output_type": "display_data"
    }
   ],
   "source": [
    "y_min = 0.5\n",
    "y_max = 1.0\n",
    "\n",
    "sns.set(font_scale = 1.25)\n",
    "sns.set_style(\"darkgrid\")\n",
    "f = plt.figure(figsize = (12, 8))\n",
    "ax = plt.axes()\n",
    "plt.title(\"SGD Logistic Regression Accuracy Evolution\")\n",
    "plt.xlabel(\"Iteration\")\n",
    "plt.ylabel(\"Accuracy\")\n",
    "plt.ylim(y_min, y_max)\n",
    "plt.yticks(np.arange(y_min, y_max + .01, .10))\n",
    "plt.plot(iterations_sampled, accuracies_average,\n",
    "         'green', label = '10 Iteration Average')\n",
    "plt.plot([x[0] for x in validation_accuracy_list], [x[1] for x in validation_accuracy_list],\n",
    "         'red', alpha = 0.4, label = 'Individual Iteration')\n",
    "plt.legend(loc = 'best')\n",
    "plt.show()"
   ]
  },
  {
   "cell_type": "markdown",
   "metadata": {},
   "source": [
    "90% accuracy! That's not bad for minimal pre-processing and a standard logistic regression. If we were smart, we might think that the willingness to give out stars varies across users. It makes sense to account for the fact that some people might systematically give mediocre reviews and 4 stars, while others might systematically write fantastic reviews and only give 4 stars. \"Normalizing\" the features to account for user history would almost definitely improve the model."
   ]
  },
  {
   "cell_type": "markdown",
   "metadata": {},
   "source": [
    "So why might predicting sentiment from reviews be useful? Maybe restaurants would pay for an automated service that tells them when a customer posts about a fantastic or terrible experience at their restaurant. I'd want to make sure to make as few mistakes as possible, so it would make sense to use only the reviews our model classifies above a certain probability of being positive or negative (maybe 95%). This is pretty straightforward with Logistic Regression.\n",
    "\n",
    "Restaurants could get that kind of feedback by checking Yelp themselves, of course, but a weekly summary with the highlights and lowlights might save enough time and effort to be worth it."
   ]
  },
  {
   "cell_type": "markdown",
   "metadata": {},
   "source": [
    "# Concluding Thoughts and Online Learning"
   ]
  },
  {
   "cell_type": "markdown",
   "metadata": {},
   "source": [
    "I only did 300 iterations of stochastic gradient descent. With a chunksize of 1000, that means the model only used 300,000 reviews. By that time, it was pretty clear the classifier was oscillating around 90% accuracy. We could have trained the model by reading in 300,000 reviews and doing a standard gradient descent. Why might the stochastic way be better (aside from being slightly faster)?"
   ]
  },
  {
   "cell_type": "markdown",
   "metadata": {
    "collapsed": true
   },
   "source": [
    "It's better because it lets us do online learning. Online learning is the way we can update our model in near real-time as we acquire more data. Data can come in all the time, and we don't want to train on the entire dataset every time it changes. Stochastic gradient descent let's us build our model in small batches and extremely accurately approximate the gradient descent solution. The flexibility of this approach more than makes up for the slightly more involved coding process when you have big and rapidly increasing data."
   ]
  }
 ],
 "metadata": {
  "anaconda-cloud": {},
  "kernelspec": {
   "display_name": "Python [Root]",
   "language": "python",
   "name": "Python [Root]"
  },
  "language_info": {
   "codemirror_mode": {
    "name": "ipython",
    "version": 2
   },
   "file_extension": ".py",
   "mimetype": "text/x-python",
   "name": "python",
   "nbconvert_exporter": "python",
   "pygments_lexer": "ipython2",
   "version": "2.7.12"
  }
 },
 "nbformat": 4,
 "nbformat_minor": 0
}
